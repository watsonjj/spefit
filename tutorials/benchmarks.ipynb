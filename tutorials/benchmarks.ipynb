{
 "cells": [
  {
   "cell_type": "markdown",
   "metadata": {},
   "source": [
    "# Benchmarks\n",
    "\n",
    "A major priority of this package is to ensure the algorithms provided for fitting the SPE spectra are optimised to minimise execution time. Changes to the package should be assessed against this benchmarking notebook to ensure the changes have not resulted in a reduced efficiency."
   ]
  },
  {
   "cell_type": "code",
   "execution_count": 1,
   "metadata": {},
   "outputs": [],
   "source": [
    "from spefit.pdf import PDF, PMTSingleGaussian\n",
    "from spefit.cost import Cost\n",
    "from spefit import ChargeContainer, minimize_with_iminuit, CameraFitter\n",
    "import numpy as np\n",
    "import pandas as pd\n",
    "pd.options.display.float_format = '{:,.2e}'.format"
   ]
  },
  {
   "cell_type": "markdown",
   "metadata": {},
   "source": [
    "## 1. PDF Class Calling"
   ]
  },
  {
   "cell_type": "code",
   "execution_count": 2,
   "metadata": {},
   "outputs": [],
   "source": [
    "x = np.linspace(-5, 10, 1000)\n",
    "time_dict = {}\n",
    "for pdf_class in PDF.__subclasses__():\n",
    "    pdf = pdf_class(n_illuminations=3)\n",
    "    parameters = np.array(list(pdf.initial.values()))  # Use the initial values set in the PDF\n",
    "    time = %timeit -q -o pdf(x, parameters, 0)\n",
    "    time_dict[pdf_class.__name__] = time.average"
   ]
  },
  {
   "cell_type": "code",
   "execution_count": 3,
   "metadata": {},
   "outputs": [
    {
     "data": {
      "text/html": [
       "<div>\n",
       "<style scoped>\n",
       "    .dataframe tbody tr th:only-of-type {\n",
       "        vertical-align: middle;\n",
       "    }\n",
       "\n",
       "    .dataframe tbody tr th {\n",
       "        vertical-align: top;\n",
       "    }\n",
       "\n",
       "    .dataframe thead th {\n",
       "        text-align: right;\n",
       "    }\n",
       "</style>\n",
       "<table border=\"1\" class=\"dataframe\">\n",
       "  <thead>\n",
       "    <tr style=\"text-align: right;\">\n",
       "      <th></th>\n",
       "      <th>Time (seconds)</th>\n",
       "    </tr>\n",
       "  </thead>\n",
       "  <tbody>\n",
       "    <tr>\n",
       "      <th>PMTSingleGaussian</th>\n",
       "      <td>4.84e-05</td>\n",
       "    </tr>\n",
       "    <tr>\n",
       "      <th>SiPMGentile</th>\n",
       "      <td>7.67e-05</td>\n",
       "    </tr>\n",
       "    <tr>\n",
       "      <th>SiPMModifiedPoisson</th>\n",
       "      <td>8.02e-05</td>\n",
       "    </tr>\n",
       "  </tbody>\n",
       "</table>\n",
       "</div>"
      ],
      "text/plain": [
       "                     Time (seconds)\n",
       "PMTSingleGaussian          4.84e-05\n",
       "SiPMGentile                7.67e-05\n",
       "SiPMModifiedPoisson        8.02e-05"
      ]
     },
     "execution_count": 3,
     "metadata": {},
     "output_type": "execute_result"
    }
   ],
   "source": [
    "df = pd.DataFrame.from_dict(time_dict, orient=\"index\")\n",
    "df.rename({0: \"Time (seconds)\"}, axis='columns')"
   ]
  },
  {
   "cell_type": "markdown",
   "metadata": {},
   "source": [
    "## 2. Cost Calling"
   ]
  },
  {
   "cell_type": "code",
   "execution_count": 4,
   "metadata": {},
   "outputs": [],
   "source": [
    "x = np.linspace(-5, 10, 1000)\n",
    "pdf = PMTSingleGaussian(n_illuminations=3)\n",
    "parameters = np.array(list(pdf.initial.values()))  # Use the initial values set in the PDF\n",
    "charges = []\n",
    "for i in range(pdf.n_illuminations):\n",
    "    y = pdf(x, parameters, i)  # Calculate PDF via the direct call to the PDF function\n",
    "    c = np.random.choice(x, p=y / y.sum(), size=20000)  # Inverse transform sampling\n",
    "    charges.append(ChargeContainer(c, n_bins=100, range_=(-3, 6)))"
   ]
  },
  {
   "cell_type": "code",
   "execution_count": 5,
   "metadata": {},
   "outputs": [],
   "source": [
    "time_dict = {}\n",
    "for cost_class in Cost.__subclasses__():    \n",
    "    cost = cost_class(pdf, charges)\n",
    "    time = %timeit -q -o cost(parameters)\n",
    "    time_dict[cost_class.__name__] = time.average"
   ]
  },
  {
   "cell_type": "code",
   "execution_count": 6,
   "metadata": {},
   "outputs": [
    {
     "data": {
      "text/html": [
       "<div>\n",
       "<style scoped>\n",
       "    .dataframe tbody tr th:only-of-type {\n",
       "        vertical-align: middle;\n",
       "    }\n",
       "\n",
       "    .dataframe tbody tr th {\n",
       "        vertical-align: top;\n",
       "    }\n",
       "\n",
       "    .dataframe thead th {\n",
       "        text-align: right;\n",
       "    }\n",
       "</style>\n",
       "<table border=\"1\" class=\"dataframe\">\n",
       "  <thead>\n",
       "    <tr style=\"text-align: right;\">\n",
       "      <th></th>\n",
       "      <th>Time (seconds)</th>\n",
       "    </tr>\n",
       "  </thead>\n",
       "  <tbody>\n",
       "    <tr>\n",
       "      <th>UnbinnedNLL</th>\n",
       "      <td>2.63e-03</td>\n",
       "    </tr>\n",
       "    <tr>\n",
       "      <th>BinnedNLL</th>\n",
       "      <td>2.92e-05</td>\n",
       "    </tr>\n",
       "    <tr>\n",
       "      <th>LeastSquares</th>\n",
       "      <td>3.24e-05</td>\n",
       "    </tr>\n",
       "  </tbody>\n",
       "</table>\n",
       "</div>"
      ],
      "text/plain": [
       "              Time (seconds)\n",
       "UnbinnedNLL         2.63e-03\n",
       "BinnedNLL           2.92e-05\n",
       "LeastSquares        3.24e-05"
      ]
     },
     "execution_count": 6,
     "metadata": {},
     "output_type": "execute_result"
    }
   ],
   "source": [
    "df = pd.DataFrame.from_dict(time_dict, orient=\"index\")\n",
    "df.rename({0: \"Time (seconds)\"}, axis='columns')"
   ]
  },
  {
   "cell_type": "markdown",
   "metadata": {},
   "source": [
    "## 3. Cost Minimization"
   ]
  },
  {
   "cell_type": "code",
   "execution_count": 7,
   "metadata": {},
   "outputs": [],
   "source": [
    "time_dict = {}\n",
    "for cost_class in Cost.__subclasses__():    \n",
    "    cost = cost_class(pdf, charges)\n",
    "    time = %timeit -q -o minimize_with_iminuit(cost)\n",
    "    time_dict[cost_class.__name__] = time.average"
   ]
  },
  {
   "cell_type": "code",
   "execution_count": 8,
   "metadata": {},
   "outputs": [
    {
     "data": {
      "text/html": [
       "<div>\n",
       "<style scoped>\n",
       "    .dataframe tbody tr th:only-of-type {\n",
       "        vertical-align: middle;\n",
       "    }\n",
       "\n",
       "    .dataframe tbody tr th {\n",
       "        vertical-align: top;\n",
       "    }\n",
       "\n",
       "    .dataframe thead th {\n",
       "        text-align: right;\n",
       "    }\n",
       "</style>\n",
       "<table border=\"1\" class=\"dataframe\">\n",
       "  <thead>\n",
       "    <tr style=\"text-align: right;\">\n",
       "      <th></th>\n",
       "      <th>Time (seconds)</th>\n",
       "    </tr>\n",
       "  </thead>\n",
       "  <tbody>\n",
       "    <tr>\n",
       "      <th>UnbinnedNLL</th>\n",
       "      <td>5.13e-01</td>\n",
       "    </tr>\n",
       "    <tr>\n",
       "      <th>BinnedNLL</th>\n",
       "      <td>6.36e-03</td>\n",
       "    </tr>\n",
       "    <tr>\n",
       "      <th>LeastSquares</th>\n",
       "      <td>6.66e-03</td>\n",
       "    </tr>\n",
       "  </tbody>\n",
       "</table>\n",
       "</div>"
      ],
      "text/plain": [
       "              Time (seconds)\n",
       "UnbinnedNLL         5.13e-01\n",
       "BinnedNLL           6.36e-03\n",
       "LeastSquares        6.66e-03"
      ]
     },
     "execution_count": 8,
     "metadata": {},
     "output_type": "execute_result"
    }
   ],
   "source": [
    "df = pd.DataFrame.from_dict(time_dict, orient=\"index\")\n",
    "df.rename({0: \"Time (seconds)\"}, axis='columns')"
   ]
  },
  {
   "cell_type": "markdown",
   "metadata": {},
   "source": [
    "## 4. Camera Fitting"
   ]
  },
  {
   "cell_type": "code",
   "execution_count": 9,
   "metadata": {},
   "outputs": [],
   "source": [
    "pixel_charges = [c.values[:, None] * np.ones((1, 3000)) for c in charges]\n",
    "fitter = CameraFitter(pdf, 100, (-3, 6), \"BinnedNLL\")"
   ]
  },
  {
   "cell_type": "code",
   "execution_count": 10,
   "metadata": {},
   "outputs": [
    {
     "data": {
      "application/vnd.jupyter.widget-view+json": {
       "model_id": "5b5fddcc718b4b2b9eefcdf5784f0fc5",
       "version_major": 2,
       "version_minor": 0
      },
      "text/plain": [
       "HBox(children=(FloatProgress(value=0.0, max=3000.0), HTML(value='')))"
      ]
     },
     "metadata": {},
     "output_type": "display_data"
    },
    {
     "name": "stdout",
     "output_type": "stream",
     "text": [
      "\n"
     ]
    }
   ],
   "source": [
    "fitter.process(pixel_charges)"
   ]
  },
  {
   "cell_type": "code",
   "execution_count": 11,
   "metadata": {},
   "outputs": [
    {
     "name": "stdout",
     "output_type": "stream",
     "text": [
      "Multiprocessing pixel SPE fit (n_processes = 3)\n"
     ]
    },
    {
     "data": {
      "application/vnd.jupyter.widget-view+json": {
       "model_id": "8aacc775974c44e38aae9a2f9ff536dd",
       "version_major": 2,
       "version_minor": 0
      },
      "text/plain": [
       "HBox(children=(FloatProgress(value=0.0, max=3000.0), HTML(value='')))"
      ]
     },
     "metadata": {},
     "output_type": "display_data"
    },
    {
     "name": "stdout",
     "output_type": "stream",
     "text": [
      "\n"
     ]
    }
   ],
   "source": [
    "fitter.multiprocess(pixel_charges, n_processes=3)"
   ]
  },
  {
   "cell_type": "code",
   "execution_count": null,
   "metadata": {},
   "outputs": [],
   "source": []
  }
 ],
 "metadata": {
  "kernelspec": {
   "display_name": "Python [conda env:cta] *",
   "language": "python",
   "name": "conda-env-cta-py"
  },
  "language_info": {
   "codemirror_mode": {
    "name": "ipython",
    "version": 3
   },
   "file_extension": ".py",
   "mimetype": "text/x-python",
   "name": "python",
   "nbconvert_exporter": "python",
   "pygments_lexer": "ipython3",
   "version": "3.7.5"
  }
 },
 "nbformat": 4,
 "nbformat_minor": 4
}
